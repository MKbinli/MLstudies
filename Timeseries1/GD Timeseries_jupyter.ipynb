{
 "cells": [
  {
   "cell_type": "code",
   "execution_count": 1,
   "id": "a75a2679",
   "metadata": {},
   "outputs": [],
   "source": [
    "import pandas as pd\n",
    "import numpy as np\n",
    "import seaborn as sns\n",
    "import matplotlib.pyplot as plt\n",
    "import scipy.stats as stats\n",
    "import re\n",
    "import warnings\n",
    "warnings.filterwarnings('ignore')\n",
    "sns.set()"
   ]
  },
  {
   "cell_type": "code",
   "execution_count": 2,
   "id": "1b3d93ae",
   "metadata": {},
   "outputs": [],
   "source": [
    "dfTrain=pd.read_csv(\"train.csv\")\n",
    "dfTest=pd.read_csv(\"test.csv\")\n",
    "#Keep the original copies\n",
    "dfTr=dfTrain.copy()\n",
    "dfTe=dfTest.copy()"
   ]
  },
  {
   "cell_type": "code",
   "execution_count": 3,
   "id": "e682556e",
   "metadata": {
    "scrolled": false
   },
   "outputs": [
    {
     "name": "stdout",
     "output_type": "stream",
     "text": [
      "            row_id  cfips          county    state first_day_of_month  \\\n",
      "0  1001_2019-08-01   1001  Autauga County  Alabama         2019-08-01   \n",
      "1  1001_2019-09-01   1001  Autauga County  Alabama         2019-09-01   \n",
      "2  1001_2019-10-01   1001  Autauga County  Alabama         2019-10-01   \n",
      "3  1001_2019-11-01   1001  Autauga County  Alabama         2019-11-01   \n",
      "4  1001_2019-12-01   1001  Autauga County  Alabama         2019-12-01   \n",
      "5  1001_2020-01-01   1001  Autauga County  Alabama         2020-01-01   \n",
      "6  1001_2020-02-01   1001  Autauga County  Alabama         2020-02-01   \n",
      "7  1001_2020-03-01   1001  Autauga County  Alabama         2020-03-01   \n",
      "8  1001_2020-04-01   1001  Autauga County  Alabama         2020-04-01   \n",
      "9  1001_2020-05-01   1001  Autauga County  Alabama         2020-05-01   \n",
      "\n",
      "   microbusiness_density  active  \n",
      "0               3.007682    1249  \n",
      "1               2.884870    1198  \n",
      "2               3.055843    1269  \n",
      "3               2.993233    1243  \n",
      "4               2.993233    1243  \n",
      "5               2.969090    1242  \n",
      "6               2.909326    1217  \n",
      "7               2.933231    1227  \n",
      "8               3.000167    1255  \n",
      "9               3.004948    1257  \n",
      "                 row_id  cfips first_day_of_month\n",
      "25070  56027_2023-06-01  56027         2023-06-01\n",
      "25071  56029_2023-06-01  56029         2023-06-01\n",
      "25072  56031_2023-06-01  56031         2023-06-01\n",
      "25073  56033_2023-06-01  56033         2023-06-01\n",
      "25074  56035_2023-06-01  56035         2023-06-01\n",
      "25075  56037_2023-06-01  56037         2023-06-01\n",
      "25076  56039_2023-06-01  56039         2023-06-01\n",
      "25077  56041_2023-06-01  56041         2023-06-01\n",
      "25078  56043_2023-06-01  56043         2023-06-01\n",
      "25079  56045_2023-06-01  56045         2023-06-01\n"
     ]
    }
   ],
   "source": [
    "print(dfTrain.head(10))\n",
    "print(dfTest.tail(10))"
   ]
  },
  {
   "cell_type": "code",
   "execution_count": 4,
   "id": "49024150",
   "metadata": {},
   "outputs": [],
   "source": [
    "#Check for feature inconsistencies\n",
    "#The function for finding raw date pattern\n",
    "def findPattern(datePattern,strData):\n",
    "    try:\n",
    "        strInfo=re.findall(datePattern,strData)[0]\n",
    "    except:\n",
    "        strInfo=\"\"\n",
    "    return strInfo\n",
    "\n",
    "\n",
    "#The function for seperating county id from date string\n",
    "def seperateCountyId(x):\n",
    "    datePattern=r\"([^=\\\"]*)_[^=\\\"]*\"\n",
    "    strInfo=findPattern(datePattern,x)\n",
    "    return strInfo\n",
    "\n",
    "#The function for seperating date string from county id\n",
    "def seperateCountyDate(x):\n",
    "    datePattern=r\"[^=\\\"]*_([^=\\\"]*)\"\n",
    "    strInfo=findPattern(datePattern,x)\n",
    "    return strInfo\n",
    "\n",
    "def checkColumnsEquality(df,col1,col2):\n",
    "    return df[col1].equals(df[col2])\n"
   ]
  },
  {
   "cell_type": "code",
   "execution_count": 5,
   "id": "b686df90",
   "metadata": {},
   "outputs": [],
   "source": [
    "dfTrain[\"cfipsChecked\"]=pd.to_numeric(dfTrain[\"row_id\"].apply(seperateCountyId))\n",
    "dfTrain[\"dateChecked\"]=dfTrain[\"row_id\"].apply(seperateCountyDate)"
   ]
  },
  {
   "cell_type": "code",
   "execution_count": 6,
   "id": "0a91a9fa",
   "metadata": {
    "scrolled": true
   },
   "outputs": [
    {
     "name": "stdout",
     "output_type": "stream",
     "text": [
      "Date Columns are equal? : True\n",
      "CFIPS Columns are equal? : True\n"
     ]
    }
   ],
   "source": [
    "print(\"Date Columns are equal? : \"+str(checkColumnsEquality(dfTrain,col1=\"dateChecked\",col2=\"first_day_of_month\")))\n",
    "print(\"CFIPS Columns are equal? : \"+str(checkColumnsEquality(dfTrain,col1=\"cfipsChecked\",col2=\"cfips\")))"
   ]
  },
  {
   "cell_type": "code",
   "execution_count": 7,
   "id": "b7e97a4c",
   "metadata": {},
   "outputs": [],
   "source": [
    "dfTest[\"cfipsChecked\"]=pd.to_numeric(dfTest[\"row_id\"].apply(seperateCountyId))\n",
    "dfTest[\"dateChecked\"]=dfTest[\"row_id\"].apply(seperateCountyDate)"
   ]
  },
  {
   "cell_type": "code",
   "execution_count": 8,
   "id": "e61c06f2",
   "metadata": {},
   "outputs": [
    {
     "name": "stdout",
     "output_type": "stream",
     "text": [
      "Date Columns are equal? : True\n",
      "CFIPS Columns are equal? : True\n"
     ]
    }
   ],
   "source": [
    "print(\"Date Columns are equal? : \"+str(checkColumnsEquality(dfTest,col1=\"dateChecked\",col2=\"first_day_of_month\")))\n",
    "print(\"CFIPS Columns are equal? : \"+str(checkColumnsEquality(dfTest,col1=\"cfipsChecked\",col2=\"cfips\")))"
   ]
  },
  {
   "cell_type": "code",
   "execution_count": 9,
   "id": "5e863de9",
   "metadata": {},
   "outputs": [
    {
     "name": "stdout",
     "output_type": "stream",
     "text": [
      "   cfips first_day_of_month  microbusiness_density\n",
      "0   1001         2019-08-01               3.007682\n",
      "1   1001         2019-09-01               2.884870\n",
      "2   1001         2019-10-01               3.055843\n",
      "3   1001         2019-11-01               2.993233\n",
      "4   1001         2019-12-01               2.993233\n",
      "5   1001         2020-01-01               2.969090\n",
      "6   1001         2020-02-01               2.909326\n",
      "7   1001         2020-03-01               2.933231\n",
      "8   1001         2020-04-01               3.000167\n",
      "9   1001         2020-05-01               3.004948\n",
      "       cfips first_day_of_month\n",
      "25070  56027         2023-06-01\n",
      "25071  56029         2023-06-01\n",
      "25072  56031         2023-06-01\n",
      "25073  56033         2023-06-01\n",
      "25074  56035         2023-06-01\n",
      "25075  56037         2023-06-01\n",
      "25076  56039         2023-06-01\n",
      "25077  56041         2023-06-01\n",
      "25078  56043         2023-06-01\n",
      "25079  56045         2023-06-01\n"
     ]
    }
   ],
   "source": [
    "columnsToRemoveTrain=[\"dateChecked\",\"cfipsChecked\",\"row_id\", \"county\", \"state\", \"active\"]\n",
    "columnsToRemoveTest=[\"dateChecked\",\"cfipsChecked\",\"row_id\"]\n",
    "\n",
    "dfTrain=dfTrain.drop(columns=columnsToRemoveTrain)\n",
    "dfTest=dfTest.drop(columns=columnsToRemoveTest)\n",
    "\n",
    "print(dfTrain.head(10))\n",
    "print(dfTest.tail(10))"
   ]
  },
  {
   "cell_type": "code",
   "execution_count": 10,
   "id": "209d657d",
   "metadata": {},
   "outputs": [],
   "source": [
    "dfTrain[\"first_day_of_month\"]=pd.to_datetime(dfTrain[\"first_day_of_month\"], yearfirst=True)\n",
    "dfTest[\"first_day_of_month\"]=pd.to_datetime(dfTest[\"first_day_of_month\"], yearfirst=True)"
   ]
  },
  {
   "cell_type": "code",
   "execution_count": 11,
   "id": "70c379b4",
   "metadata": {},
   "outputs": [],
   "source": [
    "dfTrain[\"year\"]=dfTrain[\"first_day_of_month\"].dt.year\n",
    "dfTrain[\"month\"]=dfTrain[\"first_day_of_month\"].dt.month\n",
    "dfTest[\"year\"]=dfTest[\"first_day_of_month\"].dt.year\n",
    "dfTest[\"month\"]=dfTest[\"first_day_of_month\"].dt.month"
   ]
  },
  {
   "cell_type": "code",
   "execution_count": 12,
   "id": "08cf75b6",
   "metadata": {},
   "outputs": [
    {
     "name": "stdout",
     "output_type": "stream",
     "text": [
      "  first_day_of_month  year  month  cfips  microbusiness_density\n",
      "0         2019-08-01  2019      8   1001               3.007682\n",
      "1         2019-09-01  2019      9   1001               2.884870\n",
      "2         2019-10-01  2019     10   1001               3.055843\n",
      "3         2019-11-01  2019     11   1001               2.993233\n",
      "4         2019-12-01  2019     12   1001               2.993233\n",
      "5         2020-01-01  2020      1   1001               2.969090\n",
      "6         2020-02-01  2020      2   1001               2.909326\n",
      "7         2020-03-01  2020      3   1001               2.933231\n",
      "8         2020-04-01  2020      4   1001               3.000167\n",
      "9         2020-05-01  2020      5   1001               3.004948\n",
      "      first_day_of_month  year  month  cfips\n",
      "25070         2023-06-01  2023      6  56027\n",
      "25071         2023-06-01  2023      6  56029\n",
      "25072         2023-06-01  2023      6  56031\n",
      "25073         2023-06-01  2023      6  56033\n",
      "25074         2023-06-01  2023      6  56035\n",
      "25075         2023-06-01  2023      6  56037\n",
      "25076         2023-06-01  2023      6  56039\n",
      "25077         2023-06-01  2023      6  56041\n",
      "25078         2023-06-01  2023      6  56043\n",
      "25079         2023-06-01  2023      6  56045\n"
     ]
    }
   ],
   "source": [
    "dfTrain=dfTrain[[\"first_day_of_month\", \"year\", \"month\", \"cfips\", \"microbusiness_density\"]]\n",
    "dfTest=dfTest[[\"first_day_of_month\", \"year\", \"month\", \"cfips\"]]\n",
    "dfTrain.reset_index(drop=True,inplace=True)\n",
    "dfTest.reset_index(drop=True,inplace=True)\n",
    "\n",
    "print(dfTrain.head(10))\n",
    "print(dfTest.tail(10))"
   ]
  },
  {
   "cell_type": "code",
   "execution_count": 13,
   "id": "9598de67",
   "metadata": {
    "scrolled": true
   },
   "outputs": [
    {
     "data": {
      "image/png": "[encoded data removed]",
      "text/plain": [
       "<Figure size 2000x500 with 1 Axes>"
      ]
     },
     "metadata": {},
     "output_type": "display_data"
    }
   ],
   "source": [
    "dfTrain[dfTrain.cfips==1001].plot(x=\"first_day_of_month\",y=\"microbusiness_density\",figsize=(20,5), title = \"CFIPS=1001\")\n",
    "plt.show()"
   ]
  },
  {
   "cell_type": "code",
   "execution_count": 15,
   "id": "316edf17",
   "metadata": {},
   "outputs": [
    {
     "data": {
      "text/plain": [
       "Index(['first_day_of_month', 'year', 'month', 'cfips',\n",
       "       'microbusiness_density'],\n",
       "      dtype='object')"
      ]
     },
     "execution_count": 15,
     "metadata": {},
     "output_type": "execute_result"
    }
   ],
   "source": [
    "#See the features \n",
    "dfTrain.columns"
   ]
  },
  {
   "cell_type": "code",
   "execution_count": 17,
   "id": "5f3b8d0f",
   "metadata": {
    "scrolled": true
   },
   "outputs": [
    {
     "name": "stdout",
     "output_type": "stream",
     "text": [
      "<class 'pandas.core.frame.DataFrame'>\n",
      "RangeIndex: 122265 entries, 0 to 122264\n",
      "Data columns (total 5 columns):\n",
      " #   Column                 Non-Null Count   Dtype         \n",
      "---  ------                 --------------   -----         \n",
      " 0   first_day_of_month     122265 non-null  datetime64[ns]\n",
      " 1   year                   122265 non-null  int64         \n",
      " 2   month                  122265 non-null  int64         \n",
      " 3   cfips                  122265 non-null  int64         \n",
      " 4   microbusiness_density  122265 non-null  float64       \n",
      "dtypes: datetime64[ns](1), float64(1), int64(3)\n",
      "memory usage: 4.7 MB\n"
     ]
    }
   ],
   "source": [
    "dfTrain.info()"
   ]
  },
  {
   "cell_type": "code",
   "execution_count": 31,
   "id": "46fcfbf9",
   "metadata": {},
   "outputs": [
    {
     "name": "stdout",
     "output_type": "stream",
     "text": [
      "<class 'pandas.core.frame.DataFrame'>\n",
      "RangeIndex: 25080 entries, 0 to 25079\n",
      "Data columns (total 4 columns):\n",
      " #   Column              Non-Null Count  Dtype         \n",
      "---  ------              --------------  -----         \n",
      " 0   first_day_of_month  25080 non-null  datetime64[ns]\n",
      " 1   year                25080 non-null  int64         \n",
      " 2   month               25080 non-null  int64         \n",
      " 3   cfips               25080 non-null  int64         \n",
      "dtypes: datetime64[ns](1), int64(3)\n",
      "memory usage: 783.9 KB\n"
     ]
    }
   ],
   "source": [
    "dfTest.info()"
   ]
  },
  {
   "cell_type": "code",
   "execution_count": 22,
   "id": "5405a105",
   "metadata": {},
   "outputs": [],
   "source": [
    "pd.options.display.max_columns = 4000\n",
    "pd.options.display.max_rows = 4000"
   ]
  },
  {
   "cell_type": "code",
   "execution_count": 26,
   "id": "1a0493c4",
   "metadata": {},
   "outputs": [],
   "source": [
    "oneStateFreq=dfTrain[\"cfips\"].value_counts().iloc[0]"
   ]
  },
  {
   "cell_type": "code",
   "execution_count": 29,
   "id": "cb822edd",
   "metadata": {},
   "outputs": [],
   "source": [
    "checkFunc=lambda x: 0 if x==oneStateFreq else 1"
   ]
  },
  {
   "cell_type": "code",
   "execution_count": 30,
   "id": "2ab7ad86",
   "metadata": {
    "scrolled": true
   },
   "outputs": [
    {
     "data": {
      "text/plain": [
       "0"
      ]
     },
     "execution_count": 30,
     "metadata": {},
     "output_type": "execute_result"
    }
   ],
   "source": [
    "#All states have same amount of information inside the train dataset\n",
    "dfTrain[\"cfips\"].value_counts().apply(checkFunc).sum()"
   ]
  },
  {
   "cell_type": "code",
   "execution_count": 32,
   "id": "3f7410ec",
   "metadata": {},
   "outputs": [],
   "source": [
    "oneStateFreq=dfTest[\"cfips\"].value_counts().iloc[0]"
   ]
  },
  {
   "cell_type": "code",
   "execution_count": 33,
   "id": "8d6f9eae",
   "metadata": {},
   "outputs": [
    {
     "data": {
      "text/plain": [
       "0"
      ]
     },
     "execution_count": 33,
     "metadata": {},
     "output_type": "execute_result"
    }
   ],
   "source": [
    "#All states have same amount of information inside the test set\n",
    "dfTest[\"cfips\"].value_counts().apply(checkFunc).sum()"
   ]
  },
  {
   "cell_type": "code",
   "execution_count": 39,
   "id": "481bbc5b",
   "metadata": {},
   "outputs": [
    {
     "name": "stdout",
     "output_type": "stream",
     "text": [
      "We checked the equality of cfips values w.r.t. train and test set\n"
     ]
    },
    {
     "data": {
      "text/plain": [
       "True"
      ]
     },
     "execution_count": 39,
     "metadata": {},
     "output_type": "execute_result"
    }
   ],
   "source": [
    "#Check whether \"cfips\" of the train set and test set are the same\n",
    "#These checks are important to be done for all newcommer dataset as long as time period passes\n",
    "#THerefore if we have missing states or data in the future, we can easily detect it by using checks.\n",
    "checkCfips=pd.DataFrame(columns=[\"trainCfips\",\"testCfips\"])\n",
    "checkCfips[\"trainCfips\"]=dfTrain[\"cfips\"].value_counts().index.sort_values()\n",
    "checkCfips[\"testCfips\"]=dfTest[\"cfips\"].value_counts().index.sort_values()\n",
    "def checkCfipsFunc(df):\n",
    "    if df[\"trainCfips\"].equals(df[\"testCfips\"]):\n",
    "        print(\"We checked the equality of cfips values w.r.t. train and test set\")\n",
    "        return True\n",
    "    else:\n",
    "        return False\n",
    "\n",
    "checkCfipsFunc(checkCfips)"
   ]
  },
  {
   "cell_type": "code",
   "execution_count": null,
   "id": "d39529f0",
   "metadata": {},
   "outputs": [],
   "source": []
  }
 ],
 "metadata": {
  "kernelspec": {
   "display_name": "Python 3 (ipykernel)",
   "language": "python",
   "name": "python3"
  },
  "language_info": {
   "codemirror_mode": {
    "name": "ipython",
    "version": 3
   },
   "file_extension": ".py",
   "mimetype": "text/x-python",
   "name": "python",
   "nbconvert_exporter": "python",
   "pygments_lexer": "ipython3",
   "version": "3.7.3"
  }
 },
 "nbformat": 4,
 "nbformat_minor": 5
}
